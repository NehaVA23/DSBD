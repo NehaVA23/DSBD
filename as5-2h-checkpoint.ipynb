{
 "cells": [
  {
   "cell_type": "code",
   "execution_count": 3,
   "id": "75472133-33f1-4df5-bff6-fba59ace4f3b",
   "metadata": {},
   "outputs": [],
   "source": [
    "import pandas as pd\n",
    "import numpy as np\n",
    "import seaborn as sns\n",
    "import matplotlib.pyplot as plt\n",
    "from sklearn.preprocessing import LabelEncoder, StandardScaler\n",
    "from sklearn.model_selection import train_test_split\n",
    "from sklearn.impute import SimpleImputer\n",
    "from sklearn.linear_model import LogisticRegression\n",
    "from sklearn.svm import SVC\n",
    "from sklearn.metrics import accuracy_score, confusion_matrix, ConfusionMatrixDisplay\n"
   ]
  },
  {
   "cell_type": "code",
   "execution_count": 5,
   "id": "5341876f-ccf2-4f21-8917-6947101ba853",
   "metadata": {},
   "outputs": [],
   "source": [
    "df = pd.read_csv('heartdisease.csv')"
   ]
  },
  {
   "cell_type": "code",
   "execution_count": 7,
   "id": "31f72fbd-ae8b-4784-9bc6-d7d39c93bf31",
   "metadata": {},
   "outputs": [
    {
     "data": {
      "text/html": [
       "<div>\n",
       "<style scoped>\n",
       "    .dataframe tbody tr th:only-of-type {\n",
       "        vertical-align: middle;\n",
       "    }\n",
       "\n",
       "    .dataframe tbody tr th {\n",
       "        vertical-align: top;\n",
       "    }\n",
       "\n",
       "    .dataframe thead th {\n",
       "        text-align: right;\n",
       "    }\n",
       "</style>\n",
       "<table border=\"1\" class=\"dataframe\">\n",
       "  <thead>\n",
       "    <tr style=\"text-align: right;\">\n",
       "      <th></th>\n",
       "      <th>Unnamed: 0</th>\n",
       "      <th>Age</th>\n",
       "      <th>Sex</th>\n",
       "      <th>ChestPain</th>\n",
       "      <th>RestBP</th>\n",
       "      <th>Chol</th>\n",
       "      <th>Fbs</th>\n",
       "      <th>RestECG</th>\n",
       "      <th>MaxHR</th>\n",
       "      <th>ExAng</th>\n",
       "      <th>Oldpeak</th>\n",
       "      <th>Slope</th>\n",
       "      <th>Ca</th>\n",
       "      <th>Thal</th>\n",
       "      <th>AHD</th>\n",
       "    </tr>\n",
       "  </thead>\n",
       "  <tbody>\n",
       "    <tr>\n",
       "      <th>0</th>\n",
       "      <td>1</td>\n",
       "      <td>63</td>\n",
       "      <td>1</td>\n",
       "      <td>typical</td>\n",
       "      <td>145</td>\n",
       "      <td>233</td>\n",
       "      <td>1</td>\n",
       "      <td>2</td>\n",
       "      <td>150</td>\n",
       "      <td>0</td>\n",
       "      <td>2.3</td>\n",
       "      <td>3</td>\n",
       "      <td>0.0</td>\n",
       "      <td>fixed</td>\n",
       "      <td>No</td>\n",
       "    </tr>\n",
       "    <tr>\n",
       "      <th>1</th>\n",
       "      <td>2</td>\n",
       "      <td>67</td>\n",
       "      <td>1</td>\n",
       "      <td>asymptomatic</td>\n",
       "      <td>160</td>\n",
       "      <td>286</td>\n",
       "      <td>0</td>\n",
       "      <td>2</td>\n",
       "      <td>108</td>\n",
       "      <td>1</td>\n",
       "      <td>1.5</td>\n",
       "      <td>2</td>\n",
       "      <td>3.0</td>\n",
       "      <td>normal</td>\n",
       "      <td>Yes</td>\n",
       "    </tr>\n",
       "    <tr>\n",
       "      <th>2</th>\n",
       "      <td>3</td>\n",
       "      <td>67</td>\n",
       "      <td>1</td>\n",
       "      <td>asymptomatic</td>\n",
       "      <td>120</td>\n",
       "      <td>229</td>\n",
       "      <td>0</td>\n",
       "      <td>2</td>\n",
       "      <td>129</td>\n",
       "      <td>1</td>\n",
       "      <td>2.6</td>\n",
       "      <td>2</td>\n",
       "      <td>2.0</td>\n",
       "      <td>reversable</td>\n",
       "      <td>Yes</td>\n",
       "    </tr>\n",
       "    <tr>\n",
       "      <th>3</th>\n",
       "      <td>4</td>\n",
       "      <td>37</td>\n",
       "      <td>1</td>\n",
       "      <td>nonanginal</td>\n",
       "      <td>130</td>\n",
       "      <td>250</td>\n",
       "      <td>0</td>\n",
       "      <td>0</td>\n",
       "      <td>187</td>\n",
       "      <td>0</td>\n",
       "      <td>3.5</td>\n",
       "      <td>3</td>\n",
       "      <td>0.0</td>\n",
       "      <td>normal</td>\n",
       "      <td>No</td>\n",
       "    </tr>\n",
       "    <tr>\n",
       "      <th>4</th>\n",
       "      <td>5</td>\n",
       "      <td>41</td>\n",
       "      <td>0</td>\n",
       "      <td>nontypical</td>\n",
       "      <td>130</td>\n",
       "      <td>204</td>\n",
       "      <td>0</td>\n",
       "      <td>2</td>\n",
       "      <td>172</td>\n",
       "      <td>0</td>\n",
       "      <td>1.4</td>\n",
       "      <td>1</td>\n",
       "      <td>0.0</td>\n",
       "      <td>normal</td>\n",
       "      <td>No</td>\n",
       "    </tr>\n",
       "  </tbody>\n",
       "</table>\n",
       "</div>"
      ],
      "text/plain": [
       "   Unnamed: 0  Age  Sex     ChestPain  RestBP  Chol  Fbs  RestECG  MaxHR  \\\n",
       "0           1   63    1       typical     145   233    1        2    150   \n",
       "1           2   67    1  asymptomatic     160   286    0        2    108   \n",
       "2           3   67    1  asymptomatic     120   229    0        2    129   \n",
       "3           4   37    1    nonanginal     130   250    0        0    187   \n",
       "4           5   41    0    nontypical     130   204    0        2    172   \n",
       "\n",
       "   ExAng  Oldpeak  Slope   Ca        Thal  AHD  \n",
       "0      0      2.3      3  0.0       fixed   No  \n",
       "1      1      1.5      2  3.0      normal  Yes  \n",
       "2      1      2.6      2  2.0  reversable  Yes  \n",
       "3      0      3.5      3  0.0      normal   No  \n",
       "4      0      1.4      1  0.0      normal   No  "
      ]
     },
     "execution_count": 7,
     "metadata": {},
     "output_type": "execute_result"
    }
   ],
   "source": [
    "df.head()"
   ]
  },
  {
   "cell_type": "code",
   "execution_count": 9,
   "id": "aad76228-c205-416e-8cb3-b6e99e8d35a1",
   "metadata": {},
   "outputs": [
    {
     "data": {
      "text/plain": [
       "Unnamed: 0    0\n",
       "Age           0\n",
       "Sex           0\n",
       "ChestPain     0\n",
       "RestBP        0\n",
       "Chol          0\n",
       "Fbs           0\n",
       "RestECG       0\n",
       "MaxHR         0\n",
       "ExAng         0\n",
       "Oldpeak       0\n",
       "Slope         0\n",
       "Ca            4\n",
       "Thal          2\n",
       "AHD           0\n",
       "dtype: int64"
      ]
     },
     "execution_count": 9,
     "metadata": {},
     "output_type": "execute_result"
    }
   ],
   "source": [
    "df.isnull().sum()"
   ]
  },
  {
   "cell_type": "code",
   "execution_count": 11,
   "id": "7e65a0c8-fd4b-4ed1-a676-1a0c25c17450",
   "metadata": {},
   "outputs": [],
   "source": [
    "# Data Cleaning\n",
    "df.dropna(inplace=True)  # Remove rows with null values\n"
   ]
  },
  {
   "cell_type": "code",
   "execution_count": 13,
   "id": "01b4170d-784a-4b1b-942c-25a03e0a9b78",
   "metadata": {},
   "outputs": [
    {
     "data": {
      "text/plain": [
       "Unnamed: 0    0\n",
       "Age           0\n",
       "Sex           0\n",
       "ChestPain     0\n",
       "RestBP        0\n",
       "Chol          0\n",
       "Fbs           0\n",
       "RestECG       0\n",
       "MaxHR         0\n",
       "ExAng         0\n",
       "Oldpeak       0\n",
       "Slope         0\n",
       "Ca            0\n",
       "Thal          0\n",
       "AHD           0\n",
       "dtype: int64"
      ]
     },
     "execution_count": 13,
     "metadata": {},
     "output_type": "execute_result"
    }
   ],
   "source": [
    "df.isnull().sum()"
   ]
  },
  {
   "cell_type": "code",
   "execution_count": 15,
   "id": "bd9b50a0-0fde-4e9f-83a7-d87f2ce374e0",
   "metadata": {},
   "outputs": [],
   "source": [
    "\n",
    "df.drop_duplicates(inplace=True)  # Remove duplicate rows"
   ]
  },
  {
   "cell_type": "code",
   "execution_count": 63,
   "id": "2a15a9a0-0088-4547-aca9-4ee5eff0f483",
   "metadata": {},
   "outputs": [
    {
     "data": {
      "text/html": [
       "<div>\n",
       "<style scoped>\n",
       "    .dataframe tbody tr th:only-of-type {\n",
       "        vertical-align: middle;\n",
       "    }\n",
       "\n",
       "    .dataframe tbody tr th {\n",
       "        vertical-align: top;\n",
       "    }\n",
       "\n",
       "    .dataframe thead th {\n",
       "        text-align: right;\n",
       "    }\n",
       "</style>\n",
       "<table border=\"1\" class=\"dataframe\">\n",
       "  <thead>\n",
       "    <tr style=\"text-align: right;\">\n",
       "      <th></th>\n",
       "      <th>Unnamed: 0</th>\n",
       "      <th>Age</th>\n",
       "      <th>Sex</th>\n",
       "      <th>ChestPain</th>\n",
       "      <th>RestBP</th>\n",
       "      <th>Chol</th>\n",
       "      <th>Fbs</th>\n",
       "      <th>RestECG</th>\n",
       "      <th>MaxHR</th>\n",
       "      <th>ExAng</th>\n",
       "      <th>Oldpeak</th>\n",
       "      <th>Slope</th>\n",
       "      <th>Ca</th>\n",
       "      <th>Thal</th>\n",
       "      <th>AHD</th>\n",
       "    </tr>\n",
       "  </thead>\n",
       "  <tbody>\n",
       "    <tr>\n",
       "      <th>0</th>\n",
       "      <td>1</td>\n",
       "      <td>63</td>\n",
       "      <td>1</td>\n",
       "      <td>typical</td>\n",
       "      <td>145</td>\n",
       "      <td>233.0</td>\n",
       "      <td>0</td>\n",
       "      <td>2</td>\n",
       "      <td>150.0</td>\n",
       "      <td>0</td>\n",
       "      <td>2.3</td>\n",
       "      <td>3</td>\n",
       "      <td>0.0</td>\n",
       "      <td>fixed</td>\n",
       "      <td>No</td>\n",
       "    </tr>\n",
       "    <tr>\n",
       "      <th>1</th>\n",
       "      <td>2</td>\n",
       "      <td>67</td>\n",
       "      <td>1</td>\n",
       "      <td>asymptomatic</td>\n",
       "      <td>160</td>\n",
       "      <td>286.0</td>\n",
       "      <td>0</td>\n",
       "      <td>2</td>\n",
       "      <td>108.0</td>\n",
       "      <td>1</td>\n",
       "      <td>1.5</td>\n",
       "      <td>2</td>\n",
       "      <td>2.5</td>\n",
       "      <td>normal</td>\n",
       "      <td>Yes</td>\n",
       "    </tr>\n",
       "    <tr>\n",
       "      <th>2</th>\n",
       "      <td>3</td>\n",
       "      <td>67</td>\n",
       "      <td>1</td>\n",
       "      <td>asymptomatic</td>\n",
       "      <td>120</td>\n",
       "      <td>229.0</td>\n",
       "      <td>0</td>\n",
       "      <td>2</td>\n",
       "      <td>129.0</td>\n",
       "      <td>1</td>\n",
       "      <td>2.6</td>\n",
       "      <td>2</td>\n",
       "      <td>2.0</td>\n",
       "      <td>reversable</td>\n",
       "      <td>Yes</td>\n",
       "    </tr>\n",
       "    <tr>\n",
       "      <th>3</th>\n",
       "      <td>4</td>\n",
       "      <td>37</td>\n",
       "      <td>1</td>\n",
       "      <td>nonanginal</td>\n",
       "      <td>130</td>\n",
       "      <td>250.0</td>\n",
       "      <td>0</td>\n",
       "      <td>0</td>\n",
       "      <td>187.0</td>\n",
       "      <td>0</td>\n",
       "      <td>3.5</td>\n",
       "      <td>3</td>\n",
       "      <td>0.0</td>\n",
       "      <td>normal</td>\n",
       "      <td>No</td>\n",
       "    </tr>\n",
       "    <tr>\n",
       "      <th>4</th>\n",
       "      <td>5</td>\n",
       "      <td>41</td>\n",
       "      <td>0</td>\n",
       "      <td>nontypical</td>\n",
       "      <td>130</td>\n",
       "      <td>204.0</td>\n",
       "      <td>0</td>\n",
       "      <td>2</td>\n",
       "      <td>172.0</td>\n",
       "      <td>0</td>\n",
       "      <td>1.4</td>\n",
       "      <td>1</td>\n",
       "      <td>0.0</td>\n",
       "      <td>normal</td>\n",
       "      <td>No</td>\n",
       "    </tr>\n",
       "  </tbody>\n",
       "</table>\n",
       "</div>"
      ],
      "text/plain": [
       "   Unnamed: 0  Age  Sex     ChestPain  RestBP   Chol  Fbs  RestECG  MaxHR  \\\n",
       "0           1   63    1       typical     145  233.0    0        2  150.0   \n",
       "1           2   67    1  asymptomatic     160  286.0    0        2  108.0   \n",
       "2           3   67    1  asymptomatic     120  229.0    0        2  129.0   \n",
       "3           4   37    1    nonanginal     130  250.0    0        0  187.0   \n",
       "4           5   41    0    nontypical     130  204.0    0        2  172.0   \n",
       "\n",
       "   ExAng  Oldpeak  Slope   Ca        Thal  AHD  \n",
       "0      0      2.3      3  0.0       fixed   No  \n",
       "1      1      1.5      2  2.5      normal  Yes  \n",
       "2      1      2.6      2  2.0  reversable  Yes  \n",
       "3      0      3.5      3  0.0      normal   No  \n",
       "4      0      1.4      1  0.0      normal   No  "
      ]
     },
     "execution_count": 63,
     "metadata": {},
     "output_type": "execute_result"
    }
   ],
   "source": [
    "df.head()"
   ]
  },
  {
   "cell_type": "code",
   "execution_count": 17,
   "id": "dcbb0305-e94d-46de-82b2-83827904c474",
   "metadata": {},
   "outputs": [],
   "source": [
    "# Data Integration (merging selected columns)\n",
    "subset_1 = ['Age', 'Sex', 'RestBP', 'Chol', 'Fbs', 'RestECG', 'MaxHR', 'ExAng', 'Oldpeak', 'Slope', 'Ca']\n",
    "subset_2 = ['ChestPain', 'Thal']\n",
    "merged_df = pd.concat([df[subset_1], df[subset_2]], axis=1)"
   ]
  },
  {
   "cell_type": "code",
   "execution_count": 19,
   "id": "758cb775-69ed-4e1e-afd1-00d19c7c7bbb",
   "metadata": {},
   "outputs": [
    {
     "name": "stdout",
     "output_type": "stream",
     "text": [
      "   Age  Sex  RestBP  Chol  Fbs  RestECG  MaxHR  ExAng  Oldpeak  Slope   Ca  \\\n",
      "0   63    1     145   233    1        2    150      0      2.3      3  0.0   \n",
      "1   67    1     160   286    0        2    108      1      1.5      2  3.0   \n",
      "2   67    1     120   229    0        2    129      1      2.6      2  2.0   \n",
      "3   37    1     130   250    0        0    187      0      3.5      3  0.0   \n",
      "4   41    0     130   204    0        2    172      0      1.4      1  0.0   \n",
      "\n",
      "      ChestPain        Thal  \n",
      "0       typical       fixed  \n",
      "1  asymptomatic      normal  \n",
      "2  asymptomatic  reversable  \n",
      "3    nonanginal      normal  \n",
      "4    nontypical      normal  \n"
     ]
    }
   ],
   "source": [
    "print(merged_df.head())"
   ]
  },
  {
   "cell_type": "code",
   "execution_count": 21,
   "id": "e01f661f-02f5-495b-9968-31496bac2a1f",
   "metadata": {},
   "outputs": [
    {
     "name": "stdout",
     "output_type": "stream",
     "text": [
      "\n",
      "Boxplots before outlier removal:\n"
     ]
    },
    {
     "data": {
      "image/png": "[encoded data removed]",
      "text/plain": [
       "<Figure size 400x300 with 1 Axes>"
      ]
     },
     "metadata": {},
     "output_type": "display_data"
    },
    {
     "data": {
      "image/png": "[encoded data removed]",
      "text/plain": [
       "<Figure size 400x300 with 1 Axes>"
      ]
     },
     "metadata": {},
     "output_type": "display_data"
    },
    {
     "data": {
      "image/png": "[encoded data removed]",
      "text/plain": [
       "<Figure size 400x300 with 1 Axes>"
      ]
     },
     "metadata": {},
     "output_type": "display_data"
    },
    {
     "data": {
      "image/png": "[encoded data removed]",
      "text/plain": [
       "<Figure size 400x300 with 1 Axes>"
      ]
     },
     "metadata": {},
     "output_type": "display_data"
    },
    {
     "data": {
      "image/png": "[encoded data removed]",
      "text/plain": [
       "<Figure size 400x300 with 1 Axes>"
      ]
     },
     "metadata": {},
     "output_type": "display_data"
    },
    {
     "data": {
      "image/png": "[encoded data removed]",
      "text/plain": [
       "<Figure size 400x300 with 1 Axes>"
      ]
     },
     "metadata": {},
     "output_type": "display_data"
    },
    {
     "data": {
      "image/png": "[encoded data removed]",
      "text/plain": [
       "<Figure size 400x300 with 1 Axes>"
      ]
     },
     "metadata": {},
     "output_type": "display_data"
    },
    {
     "data": {
      "image/png": "[encoded data removed]",
      "text/plain": [
       "<Figure size 400x300 with 1 Axes>"
      ]
     },
     "metadata": {},
     "output_type": "display_data"
    },
    {
     "data": {
      "image/png": "[encoded data removed]",
      "text/plain": [
       "<Figure size 400x300 with 1 Axes>"
      ]
     },
     "metadata": {},
     "output_type": "display_data"
    },
    {
     "data": {
      "image/png": "[encoded data removed]",
      "text/plain": [
       "<Figure size 400x300 with 1 Axes>"
      ]
     },
     "metadata": {},
     "output_type": "display_data"
    },
    {
     "data": {
      "image/png": "[encoded data removed]",
      "text/plain": [
       "<Figure size 400x300 with 1 Axes>"
      ]
     },
     "metadata": {},
     "output_type": "display_data"
    }
   ],
   "source": [
    "print(\"\\nBoxplots before outlier removal:\")\n",
    "for col in subset_1:\n",
    "    plt.figure(figsize=(4, 3))\n",
    "    sns.boxplot(x=df[col])\n",
    "    plt.title(f'Before: {col}')\n",
    "    plt.show()"
   ]
  },
  {
   "cell_type": "code",
   "execution_count": 22,
   "id": "55473626-d6ef-4d1c-8c4d-f52ea6930199",
   "metadata": {},
   "outputs": [],
   "source": [
    "# Error Correction (Outlier removal using IQR method)\n",
    "def remove_outlier(col):\n",
    "    q1 = col.quantile(0.25)\n",
    "    q3 = col.quantile(0.75)\n",
    "    iqr = q3 - q1\n",
    "    lower = q1 - 1.5 * iqr\n",
    "    upper = q3 + 1.5 * iqr\n",
    "    return col.clip(lower, upper)\n"
   ]
  },
  {
   "cell_type": "code",
   "execution_count": 25,
   "id": "45185bdb-8b76-43e1-bff8-d75f55482338",
   "metadata": {},
   "outputs": [],
   "source": [
    "for col in subset_1:\n",
    "    df[col] = remove_outlier(df[col])"
   ]
  },
  {
   "cell_type": "code",
   "execution_count": 27,
   "id": "325f4653-71eb-4cd2-ae34-628338d71c50",
   "metadata": {},
   "outputs": [
    {
     "name": "stdout",
     "output_type": "stream",
     "text": [
      "\n",
      "Boxplots after outlier removal:\n"
     ]
    },
    {
     "data": {
      "image/png": "[encoded data removed]",
      "text/plain": [
       "<Figure size 400x300 with 1 Axes>"
      ]
     },
     "metadata": {},
     "output_type": "display_data"
    },
    {
     "data": {
      "image/png": "[encoded data removed]",
      "text/plain": [
       "<Figure size 400x300 with 1 Axes>"
      ]
     },
     "metadata": {},
     "output_type": "display_data"
    },
    {
     "data": {
      "image/png": "[encoded data removed]",
      "text/plain": [
       "<Figure size 400x300 with 1 Axes>"
      ]
     },
     "metadata": {},
     "output_type": "display_data"
    },
    {
     "data": {
      "image/png": "[encoded data removed]",
      "text/plain": [
       "<Figure size 400x300 with 1 Axes>"
      ]
     },
     "metadata": {},
     "output_type": "display_data"
    },
    {
     "data": {
      "image/png": "[encoded data removed]",
      "text/plain": [
       "<Figure size 400x300 with 1 Axes>"
      ]
     },
     "metadata": {},
     "output_type": "display_data"
    },
    {
     "data": {
      "image/png": "[encoded data removed]",
      "text/plain": [
       "<Figure size 400x300 with 1 Axes>"
      ]
     },
     "metadata": {},
     "output_type": "display_data"
    },
    {
     "data": {
      "image/png": "[encoded data removed]",
      "text/plain": [
       "<Figure size 400x300 with 1 Axes>"
      ]
     },
     "metadata": {},
     "output_type": "display_data"
    },
    {
     "data": {
      "image/png": "[encoded data removed]",
      "text/plain": [
       "<Figure size 400x300 with 1 Axes>"
      ]
     },
     "metadata": {},
     "output_type": "display_data"
    },
    {
     "data": {
      "image/png": "[encoded data removed]",
      "text/plain": [
       "<Figure size 400x300 with 1 Axes>"
      ]
     },
     "metadata": {},
     "output_type": "display_data"
    },
    {
     "data": {
      "image/png": "[encoded data removed]",
      "text/plain": [
       "<Figure size 400x300 with 1 Axes>"
      ]
     },
     "metadata": {},
     "output_type": "display_data"
    },
    {
     "data": {
      "image/png": "[encoded data removed]",
      "text/plain": [
       "<Figure size 400x300 with 1 Axes>"
      ]
     },
     "metadata": {},
     "output_type": "display_data"
    }
   ],
   "source": [
    "# Show boxplots after outlier removal\n",
    "print(\"\\nBoxplots after outlier removal:\")\n",
    "for col in subset_1:\n",
    "    plt.figure(figsize=(4, 3))\n",
    "    sns.boxplot(x=df[col])\n",
    "    plt.title(f'After: {col}')\n",
    "    plt.show()"
   ]
  },
  {
   "cell_type": "code",
   "execution_count": 31,
   "id": "ebc84475-18d0-4f0f-a8ad-52483e2f228f",
   "metadata": {},
   "outputs": [],
   "source": [
    "# Data Transformation\n",
    "X = df.drop('AHD', axis=1)  # Features\n",
    "y = df['AHD']               # Target"
   ]
  },
  {
   "cell_type": "code",
   "execution_count": 33,
   "id": "e082515c-501e-4ee1-a078-632d3a36fd67",
   "metadata": {},
   "outputs": [
    {
     "data": {
      "text/html": [
       "<div>\n",
       "<style scoped>\n",
       "    .dataframe tbody tr th:only-of-type {\n",
       "        vertical-align: middle;\n",
       "    }\n",
       "\n",
       "    .dataframe tbody tr th {\n",
       "        vertical-align: top;\n",
       "    }\n",
       "\n",
       "    .dataframe thead th {\n",
       "        text-align: right;\n",
       "    }\n",
       "</style>\n",
       "<table border=\"1\" class=\"dataframe\">\n",
       "  <thead>\n",
       "    <tr style=\"text-align: right;\">\n",
       "      <th></th>\n",
       "      <th>Unnamed: 0</th>\n",
       "      <th>Age</th>\n",
       "      <th>Sex</th>\n",
       "      <th>ChestPain</th>\n",
       "      <th>RestBP</th>\n",
       "      <th>Chol</th>\n",
       "      <th>Fbs</th>\n",
       "      <th>RestECG</th>\n",
       "      <th>MaxHR</th>\n",
       "      <th>ExAng</th>\n",
       "      <th>Oldpeak</th>\n",
       "      <th>Slope</th>\n",
       "      <th>Ca</th>\n",
       "      <th>Thal</th>\n",
       "    </tr>\n",
       "  </thead>\n",
       "  <tbody>\n",
       "    <tr>\n",
       "      <th>0</th>\n",
       "      <td>1</td>\n",
       "      <td>63</td>\n",
       "      <td>1</td>\n",
       "      <td>typical</td>\n",
       "      <td>145</td>\n",
       "      <td>233.0</td>\n",
       "      <td>0</td>\n",
       "      <td>2</td>\n",
       "      <td>150.0</td>\n",
       "      <td>0</td>\n",
       "      <td>2.3</td>\n",
       "      <td>3</td>\n",
       "      <td>0.0</td>\n",
       "      <td>fixed</td>\n",
       "    </tr>\n",
       "    <tr>\n",
       "      <th>1</th>\n",
       "      <td>2</td>\n",
       "      <td>67</td>\n",
       "      <td>1</td>\n",
       "      <td>asymptomatic</td>\n",
       "      <td>160</td>\n",
       "      <td>286.0</td>\n",
       "      <td>0</td>\n",
       "      <td>2</td>\n",
       "      <td>108.0</td>\n",
       "      <td>1</td>\n",
       "      <td>1.5</td>\n",
       "      <td>2</td>\n",
       "      <td>2.5</td>\n",
       "      <td>normal</td>\n",
       "    </tr>\n",
       "    <tr>\n",
       "      <th>2</th>\n",
       "      <td>3</td>\n",
       "      <td>67</td>\n",
       "      <td>1</td>\n",
       "      <td>asymptomatic</td>\n",
       "      <td>120</td>\n",
       "      <td>229.0</td>\n",
       "      <td>0</td>\n",
       "      <td>2</td>\n",
       "      <td>129.0</td>\n",
       "      <td>1</td>\n",
       "      <td>2.6</td>\n",
       "      <td>2</td>\n",
       "      <td>2.0</td>\n",
       "      <td>reversable</td>\n",
       "    </tr>\n",
       "    <tr>\n",
       "      <th>3</th>\n",
       "      <td>4</td>\n",
       "      <td>37</td>\n",
       "      <td>1</td>\n",
       "      <td>nonanginal</td>\n",
       "      <td>130</td>\n",
       "      <td>250.0</td>\n",
       "      <td>0</td>\n",
       "      <td>0</td>\n",
       "      <td>187.0</td>\n",
       "      <td>0</td>\n",
       "      <td>3.5</td>\n",
       "      <td>3</td>\n",
       "      <td>0.0</td>\n",
       "      <td>normal</td>\n",
       "    </tr>\n",
       "    <tr>\n",
       "      <th>4</th>\n",
       "      <td>5</td>\n",
       "      <td>41</td>\n",
       "      <td>0</td>\n",
       "      <td>nontypical</td>\n",
       "      <td>130</td>\n",
       "      <td>204.0</td>\n",
       "      <td>0</td>\n",
       "      <td>2</td>\n",
       "      <td>172.0</td>\n",
       "      <td>0</td>\n",
       "      <td>1.4</td>\n",
       "      <td>1</td>\n",
       "      <td>0.0</td>\n",
       "      <td>normal</td>\n",
       "    </tr>\n",
       "  </tbody>\n",
       "</table>\n",
       "</div>"
      ],
      "text/plain": [
       "   Unnamed: 0  Age  Sex     ChestPain  RestBP   Chol  Fbs  RestECG  MaxHR  \\\n",
       "0           1   63    1       typical     145  233.0    0        2  150.0   \n",
       "1           2   67    1  asymptomatic     160  286.0    0        2  108.0   \n",
       "2           3   67    1  asymptomatic     120  229.0    0        2  129.0   \n",
       "3           4   37    1    nonanginal     130  250.0    0        0  187.0   \n",
       "4           5   41    0    nontypical     130  204.0    0        2  172.0   \n",
       "\n",
       "   ExAng  Oldpeak  Slope   Ca        Thal  \n",
       "0      0      2.3      3  0.0       fixed  \n",
       "1      1      1.5      2  2.5      normal  \n",
       "2      1      2.6      2  2.0  reversable  \n",
       "3      0      3.5      3  0.0      normal  \n",
       "4      0      1.4      1  0.0      normal  "
      ]
     },
     "execution_count": 33,
     "metadata": {},
     "output_type": "execute_result"
    }
   ],
   "source": [
    "X.head()"
   ]
  },
  {
   "cell_type": "code",
   "execution_count": 35,
   "id": "a3406d8d-0de1-4e88-9b3c-7180a9218976",
   "metadata": {},
   "outputs": [
    {
     "data": {
      "text/plain": [
       "Unnamed: 0    0\n",
       "Age           0\n",
       "Sex           0\n",
       "ChestPain     0\n",
       "RestBP        0\n",
       "Chol          0\n",
       "Fbs           0\n",
       "RestECG       0\n",
       "MaxHR         0\n",
       "ExAng         0\n",
       "Oldpeak       0\n",
       "Slope         0\n",
       "Ca            0\n",
       "Thal          0\n",
       "dtype: int64"
      ]
     },
     "execution_count": 35,
     "metadata": {},
     "output_type": "execute_result"
    }
   ],
   "source": [
    "X.isnull().sum()"
   ]
  },
  {
   "cell_type": "code",
   "execution_count": 37,
   "id": "84cc85be-a67b-4c27-b7f5-d3a891948d50",
   "metadata": {},
   "outputs": [
    {
     "data": {
      "text/plain": [
       "0     No\n",
       "1    Yes\n",
       "2    Yes\n",
       "3     No\n",
       "4     No\n",
       "Name: AHD, dtype: object"
      ]
     },
     "execution_count": 37,
     "metadata": {},
     "output_type": "execute_result"
    }
   ],
   "source": [
    "X = X.iloc[:, 1:]\n",
    "y.head()"
   ]
  },
  {
   "cell_type": "code",
   "execution_count": 39,
   "id": "3da9f9f2-00d6-47ab-88d0-344e36eeddd6",
   "metadata": {},
   "outputs": [],
   "source": [
    "# Label Encoding (for categorical features)\n",
    "label_cols = ['ChestPain', 'Thal']\n",
    "le = LabelEncoder()\n",
    "for col in label_cols:\n",
    "    X[col] = le.fit_transform(X[col])"
   ]
  },
  {
   "cell_type": "code",
   "execution_count": 41,
   "id": "26752d65-0df9-4a4e-b05f-43bb392c91af",
   "metadata": {},
   "outputs": [
    {
     "data": {
      "text/html": [
       "<div>\n",
       "<style scoped>\n",
       "    .dataframe tbody tr th:only-of-type {\n",
       "        vertical-align: middle;\n",
       "    }\n",
       "\n",
       "    .dataframe tbody tr th {\n",
       "        vertical-align: top;\n",
       "    }\n",
       "\n",
       "    .dataframe thead th {\n",
       "        text-align: right;\n",
       "    }\n",
       "</style>\n",
       "<table border=\"1\" class=\"dataframe\">\n",
       "  <thead>\n",
       "    <tr style=\"text-align: right;\">\n",
       "      <th></th>\n",
       "      <th>ChestPain</th>\n",
       "      <th>Thal</th>\n",
       "    </tr>\n",
       "  </thead>\n",
       "  <tbody>\n",
       "    <tr>\n",
       "      <th>0</th>\n",
       "      <td>3</td>\n",
       "      <td>0</td>\n",
       "    </tr>\n",
       "    <tr>\n",
       "      <th>1</th>\n",
       "      <td>0</td>\n",
       "      <td>1</td>\n",
       "    </tr>\n",
       "    <tr>\n",
       "      <th>2</th>\n",
       "      <td>0</td>\n",
       "      <td>2</td>\n",
       "    </tr>\n",
       "    <tr>\n",
       "      <th>3</th>\n",
       "      <td>1</td>\n",
       "      <td>1</td>\n",
       "    </tr>\n",
       "    <tr>\n",
       "      <th>4</th>\n",
       "      <td>2</td>\n",
       "      <td>1</td>\n",
       "    </tr>\n",
       "  </tbody>\n",
       "</table>\n",
       "</div>"
      ],
      "text/plain": [
       "   ChestPain  Thal\n",
       "0          3     0\n",
       "1          0     1\n",
       "2          0     2\n",
       "3          1     1\n",
       "4          2     1"
      ]
     },
     "execution_count": 41,
     "metadata": {},
     "output_type": "execute_result"
    }
   ],
   "source": [
    "X[label_cols].head()"
   ]
  },
  {
   "cell_type": "code",
   "execution_count": 43,
   "id": "3ea2f1b0-a837-44e1-bf4d-3f9781e843af",
   "metadata": {},
   "outputs": [],
   "source": [
    "# Feature Scaling\n",
    "scale_cols = ['Age', 'Sex', 'RestBP', 'Chol', 'Fbs', 'RestECG',\n",
    "              'MaxHR', 'ExAng', 'Oldpeak', 'Slope', 'Ca']\n",
    "scaler = StandardScaler()\n",
    "X[scale_cols] = scaler.fit_transform(X[scale_cols])"
   ]
  },
  {
   "cell_type": "code",
   "execution_count": 65,
   "id": "669353eb-44c9-4093-8a91-7b67b3c2d37c",
   "metadata": {},
   "outputs": [
    {
     "data": {
      "text/html": [
       "<div>\n",
       "<style scoped>\n",
       "    .dataframe tbody tr th:only-of-type {\n",
       "        vertical-align: middle;\n",
       "    }\n",
       "\n",
       "    .dataframe tbody tr th {\n",
       "        vertical-align: top;\n",
       "    }\n",
       "\n",
       "    .dataframe thead th {\n",
       "        text-align: right;\n",
       "    }\n",
       "</style>\n",
       "<table border=\"1\" class=\"dataframe\">\n",
       "  <thead>\n",
       "    <tr style=\"text-align: right;\">\n",
       "      <th></th>\n",
       "      <th>Age</th>\n",
       "      <th>Sex</th>\n",
       "      <th>RestBP</th>\n",
       "      <th>Chol</th>\n",
       "      <th>Fbs</th>\n",
       "      <th>RestECG</th>\n",
       "      <th>MaxHR</th>\n",
       "      <th>ExAng</th>\n",
       "      <th>Oldpeak</th>\n",
       "      <th>Slope</th>\n",
       "      <th>Ca</th>\n",
       "    </tr>\n",
       "  </thead>\n",
       "  <tbody>\n",
       "    <tr>\n",
       "      <th>0</th>\n",
       "      <td>0.936181</td>\n",
       "      <td>0.691095</td>\n",
       "      <td>0.814195</td>\n",
       "      <td>-0.277680</td>\n",
       "      <td>0.0</td>\n",
       "      <td>1.010199</td>\n",
       "      <td>0.015748</td>\n",
       "      <td>-0.696419</td>\n",
       "      <td>1.132325</td>\n",
       "      <td>2.264145</td>\n",
       "      <td>-0.748628</td>\n",
       "    </tr>\n",
       "    <tr>\n",
       "      <th>1</th>\n",
       "      <td>1.378929</td>\n",
       "      <td>0.691095</td>\n",
       "      <td>1.708484</td>\n",
       "      <td>0.832124</td>\n",
       "      <td>0.0</td>\n",
       "      <td>1.010199</td>\n",
       "      <td>-1.828822</td>\n",
       "      <td>1.435916</td>\n",
       "      <td>0.413350</td>\n",
       "      <td>0.643781</td>\n",
       "      <td>2.161615</td>\n",
       "    </tr>\n",
       "    <tr>\n",
       "      <th>2</th>\n",
       "      <td>1.378929</td>\n",
       "      <td>0.691095</td>\n",
       "      <td>-0.676288</td>\n",
       "      <td>-0.361439</td>\n",
       "      <td>0.0</td>\n",
       "      <td>1.010199</td>\n",
       "      <td>-0.906537</td>\n",
       "      <td>1.435916</td>\n",
       "      <td>1.401940</td>\n",
       "      <td>0.643781</td>\n",
       "      <td>1.579566</td>\n",
       "    </tr>\n",
       "    <tr>\n",
       "      <th>3</th>\n",
       "      <td>-1.941680</td>\n",
       "      <td>0.691095</td>\n",
       "      <td>-0.080095</td>\n",
       "      <td>0.078295</td>\n",
       "      <td>0.0</td>\n",
       "      <td>-1.003419</td>\n",
       "      <td>1.640727</td>\n",
       "      <td>-0.696419</td>\n",
       "      <td>2.210787</td>\n",
       "      <td>2.264145</td>\n",
       "      <td>-0.748628</td>\n",
       "    </tr>\n",
       "    <tr>\n",
       "      <th>4</th>\n",
       "      <td>-1.498933</td>\n",
       "      <td>-1.446980</td>\n",
       "      <td>-0.080095</td>\n",
       "      <td>-0.884932</td>\n",
       "      <td>0.0</td>\n",
       "      <td>1.010199</td>\n",
       "      <td>0.981952</td>\n",
       "      <td>-0.696419</td>\n",
       "      <td>0.323478</td>\n",
       "      <td>-0.976583</td>\n",
       "      <td>-0.748628</td>\n",
       "    </tr>\n",
       "  </tbody>\n",
       "</table>\n",
       "</div>"
      ],
      "text/plain": [
       "        Age       Sex    RestBP      Chol  Fbs   RestECG     MaxHR     ExAng  \\\n",
       "0  0.936181  0.691095  0.814195 -0.277680  0.0  1.010199  0.015748 -0.696419   \n",
       "1  1.378929  0.691095  1.708484  0.832124  0.0  1.010199 -1.828822  1.435916   \n",
       "2  1.378929  0.691095 -0.676288 -0.361439  0.0  1.010199 -0.906537  1.435916   \n",
       "3 -1.941680  0.691095 -0.080095  0.078295  0.0 -1.003419  1.640727 -0.696419   \n",
       "4 -1.498933 -1.446980 -0.080095 -0.884932  0.0  1.010199  0.981952 -0.696419   \n",
       "\n",
       "    Oldpeak     Slope        Ca  \n",
       "0  1.132325  2.264145 -0.748628  \n",
       "1  0.413350  0.643781  2.161615  \n",
       "2  1.401940  0.643781  1.579566  \n",
       "3  2.210787  2.264145 -0.748628  \n",
       "4  0.323478 -0.976583 -0.748628  "
      ]
     },
     "execution_count": 65,
     "metadata": {},
     "output_type": "execute_result"
    }
   ],
   "source": [
    "X[scale_cols].head()"
   ]
  },
  {
   "cell_type": "code",
   "execution_count": 49,
   "id": "ea9d9130-572b-46df-b4e7-476325d3059b",
   "metadata": {},
   "outputs": [],
   "source": [
    "# Train-test split\n",
    "X_train, X_test, y_train, y_test = train_test_split(X, y, test_size=0.2, random_state=42)"
   ]
  },
  {
   "cell_type": "code",
   "execution_count": 51,
   "id": "07585f22-f1a4-4759-be6e-a49ed2a19138",
   "metadata": {},
   "outputs": [
    {
     "name": "stdout",
     "output_type": "stream",
     "text": [
      "\n",
      "X_train shape: (237, 13)\n",
      "X_test shape: (60, 13)\n"
     ]
    }
   ],
   "source": [
    "print(\"\\nX_train shape:\", X_train.shape)\n",
    "print(\"X_test shape:\", X_test.shape)"
   ]
  },
  {
   "cell_type": "code",
   "execution_count": 53,
   "id": "d6478f7e-dd98-4a81-9494-d42bddec2e95",
   "metadata": {},
   "outputs": [],
   "source": [
    "# Handling missing values (just in case any remain after cleaning)\n",
    "imputer = SimpleImputer(strategy='mean')\n",
    "X_train = imputer.fit_transform(X_train)\n",
    "X_test = imputer.transform(X_test)"
   ]
  },
  {
   "cell_type": "code",
   "execution_count": 55,
   "id": "4a244207-8b84-4b8f-9720-faeffba224fc",
   "metadata": {},
   "outputs": [
    {
     "data": {
      "text/plain": [
       "Age          0\n",
       "Sex          0\n",
       "ChestPain    0\n",
       "RestBP       0\n",
       "Chol         0\n",
       "Fbs          0\n",
       "RestECG      0\n",
       "MaxHR        0\n",
       "ExAng        0\n",
       "Oldpeak      0\n",
       "Slope        0\n",
       "Ca           0\n",
       "Thal         0\n",
       "dtype: int64"
      ]
     },
     "execution_count": 55,
     "metadata": {},
     "output_type": "execute_result"
    }
   ],
   "source": [
    "X.isnull().sum()"
   ]
  },
  {
   "cell_type": "code",
   "execution_count": 57,
   "id": "69ed9f66-97d4-4069-b4f5-6494a37e90df",
   "metadata": {},
   "outputs": [
    {
     "name": "stdout",
     "output_type": "stream",
     "text": [
      "Logistic Regression Accuracy: 0.85\n"
     ]
    }
   ],
   "source": [
    "# Model Building\n",
    "log_model = LogisticRegression()\n",
    "log_model.fit(X_train, y_train)\n",
    "log_pred = log_model.predict(X_test)\n",
    "print(\"Logistic Regression Accuracy:\", accuracy_score(y_test, log_pred))"
   ]
  },
  {
   "cell_type": "code",
   "execution_count": 59,
   "id": "b86ef0ac-c0c1-4c4a-a5b7-1ffa840fa424",
   "metadata": {},
   "outputs": [
    {
     "name": "stdout",
     "output_type": "stream",
     "text": [
      "SVC Accuracy: 0.9166666666666666\n"
     ]
    }
   ],
   "source": [
    "svc_model = SVC()\n",
    "svc_model.fit(X_train, y_train)\n",
    "svc_pred = svc_model.predict(X_test)\n",
    "print(\"SVC Accuracy:\", accuracy_score(y_test, svc_pred))"
   ]
  },
  {
   "cell_type": "code",
   "execution_count": 61,
   "id": "bd7c6dc7-6c0f-4160-8147-403bad80a236",
   "metadata": {},
   "outputs": [
    {
     "data": {
      "image/png": "[encoded data removed]",
      "text/plain": [
       "<Figure size 640x480 with 2 Axes>"
      ]
     },
     "metadata": {},
     "output_type": "display_data"
    }
   ],
   "source": [
    "# Confusion Matrix\n",
    "ConfusionMatrixDisplay(confusion_matrix(y_test, svc_pred)).plot()\n",
    "plt.title(\"SVC Confusion Matrix\")\n",
    "plt.show()"
   ]
  },
  {
   "cell_type": "code",
   "execution_count": null,
   "id": "56618b44-ac56-4bbc-b0e8-aa7188aa518f",
   "metadata": {},
   "outputs": [],
   "source": []
  }
 ],
 "metadata": {
  "kernelspec": {
   "display_name": "Python 3 (ipykernel)",
   "language": "python",
   "name": "python3"
  },
  "language_info": {
   "codemirror_mode": {
    "name": "ipython",
    "version": 3
   },
   "file_extension": ".py",
   "mimetype": "text/x-python",
   "name": "python",
   "nbconvert_exporter": "python",
   "pygments_lexer": "ipython3",
   "version": "3.12.4"
  }
 },
 "nbformat": 4,
 "nbformat_minor": 5
}
